{
 "cells": [
  {
   "cell_type": "markdown",
   "metadata": {
    "nbpresent": {
     "id": "d7a887b4-5e99-4a0c-9fb2-0351fa7aafd2"
    }
   },
   "source": [
    "# Dam Removal Information Portal 2.0 - DRAFT PRESENTATION\n",
    "### Exploring Concepts of the Knowledge Extraction Engine (KEE)\n",
    "\n",
    "\n",
    "\n",
    "\n",
    "Brandon Serna and Daniel Wieferich\n",
    "\n",
    "Febuary 8th, 2018\n"
   ]
  },
  {
   "cell_type": "markdown",
   "metadata": {},
   "source": [
    "![Dam Removal Information Portal](drip_ss.jpg)"
   ]
  },
  {
   "cell_type": "code",
   "execution_count": null,
   "metadata": {
    "collapsed": true
   },
   "outputs": [],
   "source": [
    "#Intro Commentary:"
   ]
  },
  {
   "cell_type": "code",
   "execution_count": null,
   "metadata": {
    "collapsed": true
   },
   "outputs": [],
   "source": []
  },
  {
   "cell_type": "markdown",
   "metadata": {},
   "source": [
    "## Background\n",
    "\n",
    "\n",
    "\n",
    "\n",
    "![Dam Removal Information Portal](dripTimeline2.jpg)\n",
    "\n",
    "\n",
    "\n",
    "\n",
    "\n",
    "#### Current Process to update DRIP\n",
    "* Annual Literature Review\n",
    "* Annual Updates of Dam Removals from American Rivers\n",
    "* Manually insert new data into database\n",
    "* Release new version of data into ScienceBase\n",
    "\n",
    "#### Now exploring updates using concepts of a Knowledge Extraction Engine (KEE)\n",
    "\n",
    "#### What is KEE?\n",
    "* Use of dynamic processes to extract knowledge (data, findings, context) from literature into an actionable database.\n",
    "* Built using modular framework allowing functions/algorithms to be reused in different scenarios\n",
    "\n",
    "#### Motivation for DRIP effort to explore Knowledge Extraction\n",
    "\n",
    "* Sustainable and Reproducible through dynamic processes\n",
    "* Reduce time for updates\n",
    "* Reduce potential for update errors (e.g. data entry)\n",
    "* Less subjective classification\n",
    "* Increase breath of search\n",
    "* Possibilities to be more thorough"
   ]
  },
  {
   "cell_type": "code",
   "execution_count": null,
   "metadata": {
    "collapsed": true
   },
   "outputs": [],
   "source": [
    "Background Commentary:  \n",
    "#2014 powell center working group created a dam removal science database based on an extensive literature review\n",
    "#2015 a group of us from Western Fisheries and CSAS&L funded by CDI to work this database into an application (DRIP)\n",
    "#Since we have continued collaboration to help keep DRIP up-to-date.\n",
    "\n",
    "#Current Process to update DRIP involves a time-intensive annual literature review and manual updates to a database \n",
    "#that get inserted into DRIP framework\n",
    "\n",
    "#...."
   ]
  },
  {
   "cell_type": "code",
   "execution_count": null,
   "metadata": {
    "collapsed": true
   },
   "outputs": [],
   "source": []
  },
  {
   "cell_type": "code",
   "execution_count": null,
   "metadata": {
    "collapsed": true
   },
   "outputs": [],
   "source": []
  },
  {
   "cell_type": "markdown",
   "metadata": {},
   "source": [
    "## Knowlege Extraction Algorithms (KEA) within KEE\n",
    "\n",
    "##### Key goals \n",
    "* Identify dam removal characteristics\n",
    "    * Dam name\n",
    "    * Dam location\n",
    "    * Stream name \n",
    "    * Year dam removed\n",
    "* Identify manuscripts studying dam removals\n",
    "* Identify manuscripts of interest: those studying ecological or physical response \n",
    "    * Classify science by topic (e.g. fish passage, total sediment flux...)\n",
    "* Link science literature to dam removal\n",
    "\n",
    "##### HOW?\n",
    "##### Add some kind of figure... using this for now\n",
    "KEE \n",
    "![Dam Removal Information Portal](dripWorkflow.jpg)"
   ]
  },
  {
   "cell_type": "code",
   "execution_count": null,
   "metadata": {
    "collapsed": true
   },
   "outputs": [],
   "source": []
  },
  {
   "cell_type": "code",
   "execution_count": null,
   "metadata": {
    "collapsed": true
   },
   "outputs": [],
   "source": []
  },
  {
   "cell_type": "markdown",
   "metadata": {},
   "source": [
    "## Examples of KEA in DRIP"
   ]
  },
  {
   "cell_type": "markdown",
   "metadata": {},
   "source": [
    "#### Sample of Classifying Article by Type\n"
   ]
  },
  {
   "cell_type": "code",
   "execution_count": null,
   "metadata": {
    "collapsed": true
   },
   "outputs": [],
   "source": [
    "# A line or two about what is going on with your classification code\n",
    "# Code snippet goes here to show context model in progress"
   ]
  },
  {
   "cell_type": "markdown",
   "metadata": {},
   "source": [
    "#### Sample of Dam Characteristics\n",
    "\n",
    "        Mock-up of Dam Profile with both algorithm based and USGS employee curated content\n",
    "![Dam Removal Information Portal](dam_marmot_pagemockup.png)"
   ]
  },
  {
   "cell_type": "code",
   "execution_count": null,
   "metadata": {
    "collapsed": true
   },
   "outputs": [],
   "source": []
  },
  {
   "cell_type": "code",
   "execution_count": null,
   "metadata": {
    "collapsed": true
   },
   "outputs": [],
   "source": []
  },
  {
   "cell_type": "code",
   "execution_count": null,
   "metadata": {
    "collapsed": true
   },
   "outputs": [],
   "source": []
  },
  {
   "cell_type": "markdown",
   "metadata": {},
   "source": [
    "## What is Next\n",
    "\n",
    "#### DRIP 2.0 (using KEA)\n",
    "* Displays both KEA knowledge and USGS verified knowledge\n",
    "* Planned release in next few months\n",
    "    \n",
    "#### CDI SOI with exploring NAS use-case \n",
    "* Extract occurence information from literature\n",
    "    * Could expand algorithms to OBIS, BISON, ESS Invasive work...\n",
    "* Test feasibility of making KEA a USGS resource\n",
    "\n",
    "#### We would love to hear your feedback to help us direct future work"
   ]
  },
  {
   "cell_type": "code",
   "execution_count": null,
   "metadata": {
    "collapsed": true
   },
   "outputs": [],
   "source": []
  },
  {
   "cell_type": "code",
   "execution_count": null,
   "metadata": {
    "collapsed": true
   },
   "outputs": [],
   "source": []
  },
  {
   "cell_type": "markdown",
   "metadata": {},
   "source": [
    "## Questions and Comments???\n",
    "\n"
   ]
  },
  {
   "cell_type": "code",
   "execution_count": null,
   "metadata": {
    "collapsed": true
   },
   "outputs": [],
   "source": []
  },
  {
   "cell_type": "code",
   "execution_count": null,
   "metadata": {
    "collapsed": true
   },
   "outputs": [],
   "source": []
  },
  {
   "cell_type": "markdown",
   "metadata": {},
   "source": [
    "### Dam Removal Science Database\n",
    "\n",
    "A database created from an extensive literature search identifying documents relevant to dam removal science. 2015, there was a total of 179 citations containing monitoring information associated with 130 dam removals that were found using Web of Science, Google Scholar and Clearinghouse. \n",
    "\n",
    "### Dam Removal Information Portal\n",
    "\n",
    "An online representation and visualization tool for the Dam Removal Science Database providing a map-based visualization of information of dam removals and associated scientific studies. Displaying attributes like location, size, date built and removed. \n",
    "\n",
    "\n",
    "# Use an image here\n",
    "\n",
    "Powell center => Literature Review of Science on Dam Removals => CDI funding DRIP Application => HOW TO KEEP IT UPdATED THROUGH TIME?????\n"
   ]
  },
  {
   "cell_type": "markdown",
   "metadata": {
    "nbpresent": {
     "id": "560d621c-9d54-466a-b832-20d97cd3d6b9"
    }
   },
   "source": [
    "### Motivation for the DRIP Knowledge Extraction Algorithms\n",
    "\n",
    "* Sustainable\n",
    "\n",
    "* Reproducible\n",
    "\n",
    "* Increase breath of search\n",
    "\n",
    "* Possibilities to be more thorough"
   ]
  },
  {
   "cell_type": "markdown",
   "metadata": {
    "nbpresent": {
     "id": "6df94934-5d76-482f-bd1d-32aa52358e82"
    }
   },
   "source": [
    "### Our Approach\n",
    "\n",
    "* GeoDeepDive (database)\n"
   ]
  },
  {
   "cell_type": "markdown",
   "metadata": {
    "nbpresent": {
     "id": "9f9d76cb-09e8-4584-9792-3231db76661f"
    }
   },
   "source": [
    "### System\n",
    "\n",
    "Pipeline of components making up the engine "
   ]
  },
  {
   "cell_type": "markdown",
   "metadata": {
    "nbpresent": {
     "id": "99153c8e-e061-497a-b053-6d85b21a1e1f"
    }
   },
   "source": [
    "### Sample\n",
    "\n"
   ]
  },
  {
   "cell_type": "markdown",
   "metadata": {
    "nbpresent": {
     "id": "4d6f6618-128e-47c3-b8b1-dd20b63a7267"
    }
   },
   "source": [
    "### CDI \n",
    "\n",
    "#### KEA Knowledge Extraction Algorithms"
   ]
  },
  {
   "cell_type": "markdown",
   "metadata": {
    "nbpresent": {
     "id": "44cc839c-de20-4222-87f5-e0dbaf183516"
    }
   },
   "source": [
    "### Questions"
   ]
  },
  {
   "cell_type": "code",
   "execution_count": null,
   "metadata": {
    "collapsed": true,
    "nbpresent": {
     "id": "333a457c-5f4f-4243-bcd1-7f7206a441b0"
    }
   },
   "outputs": [],
   "source": []
  }
 ],
 "metadata": {
  "anaconda-cloud": {},
  "kernelspec": {
   "display_name": "Python 3",
   "language": "python",
   "name": "python3"
  },
  "language_info": {
   "codemirror_mode": {
    "name": "ipython",
    "version": 3
   },
   "file_extension": ".py",
   "mimetype": "text/x-python",
   "name": "python",
   "nbconvert_exporter": "python",
   "pygments_lexer": "ipython3",
   "version": "3.6.1"
  },
  "nbpresent": {
   "slides": {
    "32486a9b-4d0c-4b40-933d-206bf1bfab9a": {
     "id": "32486a9b-4d0c-4b40-933d-206bf1bfab9a",
     "prev": "4a785402-a960-4a55-ad5b-09f45a12531d",
     "regions": {
      "a2aa0815-b448-4e61-87fc-45d62d1180f9": {
       "attrs": {
        "height": 0.8,
        "width": 0.8,
        "x": 0.1,
        "y": 0.1
       },
       "content": {
        "cell": "6df94934-5d76-482f-bd1d-32aa52358e82",
        "part": "whole"
       },
       "id": "a2aa0815-b448-4e61-87fc-45d62d1180f9"
      }
     }
    },
    "3a3eb064-2bf1-46d7-9bd3-418c4313bcaf": {
     "id": "3a3eb064-2bf1-46d7-9bd3-418c4313bcaf",
     "prev": "a8490894-2771-4e70-9692-fb85709024c2",
     "regions": {
      "3d58d46c-9f40-4f33-be59-00a7b2070805": {
       "attrs": {
        "height": 0.8,
        "width": 0.8,
        "x": 0.1,
        "y": 0.1
       },
       "content": {
        "cell": "44cc839c-de20-4222-87f5-e0dbaf183516",
        "part": "whole"
       },
       "id": "3d58d46c-9f40-4f33-be59-00a7b2070805"
      }
     }
    },
    "4a785402-a960-4a55-ad5b-09f45a12531d": {
     "id": "4a785402-a960-4a55-ad5b-09f45a12531d",
     "prev": "601847d3-0589-4917-ad4a-3a4bcc62c1c2",
     "regions": {
      "f25a8595-525b-4c9c-9f42-6c8f818bd416": {
       "attrs": {
        "height": 0.8,
        "width": 0.8,
        "x": 0.1,
        "y": 0.1
       },
       "content": {
        "cell": "560d621c-9d54-466a-b832-20d97cd3d6b9",
        "part": "whole"
       },
       "id": "f25a8595-525b-4c9c-9f42-6c8f818bd416"
      }
     }
    },
    "57aa45cd-1929-47cc-9454-f9e11f31409a": {
     "id": "57aa45cd-1929-47cc-9454-f9e11f31409a",
     "prev": "c832394a-9c06-4e60-8d80-d433b2355525",
     "regions": {
      "aadb5226-6249-49a3-892e-c9d410c4b8cd": {
       "attrs": {
        "height": 0.8,
        "width": 0.8,
        "x": 0.1,
        "y": 0.1
       },
       "content": {
        "cell": "99153c8e-e061-497a-b053-6d85b21a1e1f",
        "part": "whole"
       },
       "id": "aadb5226-6249-49a3-892e-c9d410c4b8cd"
      }
     }
    },
    "601847d3-0589-4917-ad4a-3a4bcc62c1c2": {
     "id": "601847d3-0589-4917-ad4a-3a4bcc62c1c2",
     "prev": null,
     "regions": {
      "ca0ed709-4940-4e7f-92b0-2d692d4f102b": {
       "attrs": {
        "height": 0.8,
        "width": 0.8,
        "x": 0.1,
        "y": 0.1
       },
       "content": {
        "cell": "d7a887b4-5e99-4a0c-9fb2-0351fa7aafd2",
        "part": "whole"
       },
       "id": "ca0ed709-4940-4e7f-92b0-2d692d4f102b"
      }
     }
    },
    "a8490894-2771-4e70-9692-fb85709024c2": {
     "id": "a8490894-2771-4e70-9692-fb85709024c2",
     "prev": "57aa45cd-1929-47cc-9454-f9e11f31409a",
     "regions": {
      "992e591f-d38f-4007-86ad-efcbf2fefdcd": {
       "attrs": {
        "height": 0.8,
        "width": 0.8,
        "x": 0.1,
        "y": 0.1
       },
       "content": {
        "cell": "4d6f6618-128e-47c3-b8b1-dd20b63a7267",
        "part": "whole"
       },
       "id": "992e591f-d38f-4007-86ad-efcbf2fefdcd"
      }
     }
    },
    "bdee8805-9c46-4f68-8dfa-346ef70de191": {
     "id": "bdee8805-9c46-4f68-8dfa-346ef70de191",
     "prev": "3a3eb064-2bf1-46d7-9bd3-418c4313bcaf",
     "regions": {
      "610c4505-37d5-488c-8980-25d0ca082438": {
       "attrs": {
        "height": 0.8,
        "width": 0.8,
        "x": 0.1,
        "y": 0.1
       },
       "content": {
        "cell": "333a457c-5f4f-4243-bcd1-7f7206a441b0",
        "part": "whole"
       },
       "id": "610c4505-37d5-488c-8980-25d0ca082438"
      }
     }
    },
    "c832394a-9c06-4e60-8d80-d433b2355525": {
     "id": "c832394a-9c06-4e60-8d80-d433b2355525",
     "prev": "32486a9b-4d0c-4b40-933d-206bf1bfab9a",
     "regions": {
      "65439ca6-566a-42e6-944d-472328e21bf5": {
       "attrs": {
        "height": 0.8,
        "width": 0.8,
        "x": 0.1,
        "y": 0.1
       },
       "content": {
        "cell": "9f9d76cb-09e8-4584-9792-3231db76661f",
        "part": "whole"
       },
       "id": "65439ca6-566a-42e6-944d-472328e21bf5"
      }
     }
    }
   },
   "themes": {
    "default": "85a6a6be-f998-4f2b-b939-b811bb0f565f",
    "theme": {
     "00995f02-1c1f-441f-a85c-ba919a99b6c8": {
      "backgrounds": {
       "backgroundColor": {
        "background-color": "backgroundColor",
        "id": "backgroundColor"
       }
      },
      "id": "00995f02-1c1f-441f-a85c-ba919a99b6c8",
      "palette": {
       "backgroundColor": {
        "id": "backgroundColor",
        "rgb": [
         256,
         256,
         256
        ]
       },
       "headingColor": {
        "id": "headingColor",
        "rgb": [
         0,
         0,
         0
        ]
       },
       "linkColor": {
        "id": "linkColor",
        "rgb": [
         0,
         0,
         139
        ]
       },
       "mainColor": {
        "id": "mainColor",
        "rgb": [
         0,
         0,
         0
        ]
       }
      },
      "rules": {
       "a": {
        "color": "linkColor"
       },
       "h1": {
        "color": "headingColor",
        "font-family": "News Cycle",
        "font-size": 7
       },
       "h2": {
        "color": "headingColor",
        "font-family": "News Cycle",
        "font-size": 5
       },
       "h3": {
        "color": "headingColor",
        "font-family": "News Cycle",
        "font-size": 3.75
       },
       "h4": {
        "color": "headingColor",
        "font-family": "News Cycle",
        "font-size": 3
       },
       "h5": {
        "color": "headingColor",
        "font-family": "News Cycle"
       },
       "h6": {
        "color": "headingColor",
        "font-family": "News Cycle"
       },
       "h7": {
        "color": "headingColor",
        "font-family": "News Cycle"
       },
       "li": {
        "color": "mainColor",
        "font-family": "Lato",
        "font-size": 5
       },
       "p": {
        "color": "mainColor",
        "font-family": "Lato",
        "font-size": 5
       }
      },
      "text-base": {
       "color": "mainColor",
       "font-family": "Lato",
       "font-size": 5
      }
     },
     "02180887-1128-4574-b977-35409bd457a2": {
      "backgrounds": {
       "backgroundColor": {
        "background-color": "backgroundColor",
        "id": "backgroundColor"
       }
      },
      "id": "02180887-1128-4574-b977-35409bd457a2",
      "palette": {
       "backgroundColor": {
        "id": "backgroundColor",
        "rgb": [
         253,
         246,
         227
        ]
       },
       "headingColor": {
        "id": "headingColor",
        "rgb": [
         88,
         110,
         117
        ]
       },
       "linkColor": {
        "id": "linkColor",
        "rgb": [
         38,
         139,
         210
        ]
       },
       "mainColor": {
        "id": "mainColor",
        "rgb": [
         101,
         123,
         131
        ]
       }
      },
      "rules": {
       "a": {
        "color": "linkColor"
       },
       "h1": {
        "color": "headingColor",
        "font-family": "Oswald",
        "font-size": 7
       },
       "h2": {
        "color": "headingColor",
        "font-family": "Oswald",
        "font-size": 5
       },
       "h3": {
        "color": "headingColor",
        "font-family": "Oswald",
        "font-size": 3.75
       },
       "h4": {
        "color": "headingColor",
        "font-family": "Oswald",
        "font-size": 3
       },
       "h5": {
        "color": "headingColor",
        "font-family": "Oswald"
       },
       "h6": {
        "color": "headingColor",
        "font-family": "Oswald"
       },
       "h7": {
        "color": "headingColor",
        "font-family": "Oswald"
       },
       "li": {
        "color": "mainColor",
        "font-family": "Lato",
        "font-size": 5
       },
       "p": {
        "color": "mainColor",
        "font-family": "Lato",
        "font-size": 5
       }
      },
      "text-base": {
       "color": "mainColor",
       "font-family": "Lato",
       "font-size": 5
      }
     },
     "23a0ff26-ffdf-4040-be2b-f801c1bee1d8": {
      "backgrounds": {
       "backgroundColor": {
        "background-color": "backgroundColor",
        "id": "backgroundColor"
       }
      },
      "id": "23a0ff26-ffdf-4040-be2b-f801c1bee1d8",
      "palette": {
       "backgroundColor": {
        "id": "backgroundColor",
        "rgb": [
         34,
         34,
         34
        ]
       },
       "headingColor": {
        "id": "headingColor",
        "rgb": [
         256,
         256,
         256
        ]
       },
       "linkColor": {
        "id": "linkColor",
        "rgb": [
         66,
         175,
         250
        ]
       },
       "mainColor": {
        "id": "mainColor",
        "rgb": [
         256,
         256,
         256
        ]
       }
      },
      "rules": {
       "a": {
        "color": "linkColor"
       },
       "h1": {
        "color": "headingColor",
        "font-family": "Source Sans Pro",
        "font-size": 5.25
       },
       "h2": {
        "color": "headingColor",
        "font-family": "Source Sans Pro",
        "font-size": 4
       },
       "h3": {
        "color": "headingColor",
        "font-family": "Source Sans Pro",
        "font-size": 3.5
       },
       "h4": {
        "color": "headingColor",
        "font-family": "Source Sans Pro",
        "font-size": 3
       },
       "h5": {
        "color": "headingColor",
        "font-family": "Source Sans Pro"
       },
       "h6": {
        "color": "headingColor",
        "font-family": "Source Sans Pro"
       },
       "h7": {
        "color": "headingColor",
        "font-family": "Source Sans Pro"
       },
       "li": {
        "color": "mainColor",
        "font-family": "Source Sans Pro",
        "font-size": 6
       },
       "p": {
        "color": "mainColor",
        "font-family": "Source Sans Pro",
        "font-size": 6
       }
      },
      "text-base": {
       "color": "mainColor",
       "font-family": "Source Sans Pro",
       "font-size": 6
      }
     },
     "2528b17c-cb1c-4bee-938a-039be773e0f9": {
      "backgrounds": {
       "backgroundColor": {
        "background-color": "backgroundColor",
        "id": "backgroundColor"
       }
      },
      "id": "2528b17c-cb1c-4bee-938a-039be773e0f9",
      "palette": {
       "backgroundColor": {
        "id": "backgroundColor",
        "rgb": [
         240,
         241,
         235
        ]
       },
       "headingColor": {
        "id": "headingColor",
        "rgb": [
         56,
         61,
         61
        ]
       },
       "linkColor": {
        "id": "linkColor",
        "rgb": [
         81,
         72,
         61
        ]
       },
       "mainColor": {
        "id": "mainColor",
        "rgb": [
         0,
         0,
         0
        ]
       }
      },
      "rules": {
       "a": {
        "color": "linkColor"
       },
       "h1": {
        "color": "headingColor",
        "font-family": "EB Garamond",
        "font-size": 7
       },
       "h2": {
        "color": "headingColor",
        "font-family": "EB Garamond",
        "font-size": 5
       },
       "h3": {
        "color": "headingColor",
        "font-family": "EB Garamond",
        "font-size": 3.75
       },
       "h4": {
        "color": "headingColor",
        "font-family": "EB Garamond",
        "font-size": 3
       },
       "h5": {
        "color": "headingColor",
        "font-family": "EB Garamond"
       },
       "h6": {
        "color": "headingColor",
        "font-family": "EB Garamond"
       },
       "h7": {
        "color": "headingColor",
        "font-family": "EB Garamond"
       },
       "li": {
        "color": "mainColor",
        "font-family": "EB Garamond",
        "font-size": 5
       },
       "p": {
        "color": "mainColor",
        "font-family": "EB Garamond",
        "font-size": 5
       }
      },
      "text-base": {
       "color": "mainColor",
       "font-family": "EB Garamond",
       "font-size": 5
      }
     },
     "4e621c14-c815-4937-ba4d-b8679da9ab76": {
      "backgrounds": {
       "backgroundColor": {
        "background-color": "backgroundColor",
        "id": "backgroundColor"
       }
      },
      "id": "4e621c14-c815-4937-ba4d-b8679da9ab76",
      "palette": {
       "backgroundColor": {
        "id": "backgroundColor",
        "rgb": [
         247,
         243,
         222
        ]
       },
       "headingColor": {
        "id": "headingColor",
        "rgb": [
         51,
         51,
         51
        ]
       },
       "linkColor": {
        "id": "linkColor",
        "rgb": [
         139,
         116,
         61
        ]
       },
       "mainColor": {
        "id": "mainColor",
        "rgb": [
         51,
         51,
         51
        ]
       }
      },
      "rules": {
       "a": {
        "color": "linkColor"
       },
       "h1": {
        "color": "headingColor",
        "font-family": "Oswald",
        "font-size": 7
       },
       "h2": {
        "color": "headingColor",
        "font-family": "Oswald",
        "font-size": 5
       },
       "h3": {
        "color": "headingColor",
        "font-family": "Oswald",
        "font-size": 3.75
       },
       "h4": {
        "color": "headingColor",
        "font-family": "Oswald",
        "font-size": 3
       },
       "h5": {
        "color": "headingColor",
        "font-family": "Oswald"
       },
       "h6": {
        "color": "headingColor",
        "font-family": "Oswald"
       },
       "h7": {
        "color": "headingColor",
        "font-family": "Oswald"
       },
       "li": {
        "color": "mainColor",
        "font-family": "Lato",
        "font-size": 5
       },
       "p": {
        "color": "mainColor",
        "font-family": "Lato",
        "font-size": 5
       }
      },
      "text-base": {
       "color": "mainColor",
       "font-family": "Lato",
       "font-size": 5
      }
     },
     "7990289f-6875-471e-9144-b7d354ffca56": {
      "backgrounds": {
       "backgroundColor": {
        "background-color": "backgroundColor",
        "id": "backgroundColor"
       }
      },
      "id": "7990289f-6875-471e-9144-b7d354ffca56",
      "palette": {
       "backgroundColor": {
        "id": "backgroundColor",
        "rgb": [
         0,
         43,
         54
        ]
       },
       "headingColor": {
        "id": "headingColor",
        "rgb": [
         238,
         232,
         213
        ]
       },
       "linkColor": {
        "id": "linkColor",
        "rgb": [
         38,
         139,
         210
        ]
       },
       "mainColor": {
        "id": "mainColor",
        "rgb": [
         147,
         161,
         161
        ]
       }
      },
      "rules": {
       "a": {
        "color": "linkColor"
       },
       "h1": {
        "color": "headingColor",
        "font-family": "Oswald",
        "font-size": 7
       },
       "h2": {
        "color": "headingColor",
        "font-family": "Oswald",
        "font-size": 5
       },
       "h3": {
        "color": "headingColor",
        "font-family": "Oswald",
        "font-size": 3.75
       },
       "h4": {
        "color": "headingColor",
        "font-family": "Oswald",
        "font-size": 3
       },
       "h5": {
        "color": "headingColor",
        "font-family": "Oswald"
       },
       "h6": {
        "color": "headingColor",
        "font-family": "Oswald"
       },
       "h7": {
        "color": "headingColor",
        "font-family": "Oswald"
       },
       "li": {
        "color": "mainColor",
        "font-family": "Lato",
        "font-size": 5
       },
       "p": {
        "color": "mainColor",
        "font-family": "Lato",
        "font-size": 5
       }
      },
      "text-base": {
       "color": "mainColor",
       "font-family": "Lato",
       "font-size": 5
      }
     },
     "85a6a6be-f998-4f2b-b939-b811bb0f565f": {
      "backgrounds": {
       "backgroundColor": {
        "background-color": "backgroundColor",
        "id": "backgroundColor"
       }
      },
      "id": "85a6a6be-f998-4f2b-b939-b811bb0f565f",
      "palette": {
       "backgroundColor": {
        "id": "backgroundColor",
        "rgb": [
         43,
         43,
         43
        ]
       },
       "headingColor": {
        "id": "headingColor",
        "rgb": [
         238,
         238,
         238
        ]
       },
       "linkColor": {
        "id": "linkColor",
        "rgb": [
         19,
         218,
         236
        ]
       },
       "mainColor": {
        "id": "mainColor",
        "rgb": [
         238,
         238,
         238
        ]
       }
      },
      "rules": {
       "a": {
        "color": "linkColor"
       },
       "h1": {
        "color": "headingColor",
        "font-family": "Oswald",
        "font-size": 7
       },
       "h2": {
        "color": "headingColor",
        "font-family": "Oswald",
        "font-size": 5
       },
       "h3": {
        "color": "headingColor",
        "font-family": "Oswald",
        "font-size": 3.75
       },
       "h4": {
        "color": "headingColor",
        "font-family": "Oswald",
        "font-size": 3
       },
       "h5": {
        "color": "headingColor",
        "font-family": "Oswald"
       },
       "h6": {
        "color": "headingColor",
        "font-family": "Oswald"
       },
       "h7": {
        "color": "headingColor",
        "font-family": "Oswald"
       },
       "li": {
        "color": "mainColor",
        "font-family": "Lato",
        "font-size": 5
       },
       "p": {
        "color": "mainColor",
        "font-family": "Lato",
        "font-size": 5
       }
      },
      "text-base": {
       "color": "mainColor",
       "font-family": "Lato",
       "font-size": 5
      }
     },
     "b158a9e0-65ab-46f2-98dc-32b0b7e98099": {
      "backgrounds": {
       "backgroundColor": {
        "background-color": "backgroundColor",
        "id": "backgroundColor"
       }
      },
      "id": "b158a9e0-65ab-46f2-98dc-32b0b7e98099",
      "palette": {
       "backgroundColor": {
        "id": "backgroundColor",
        "rgb": [
         256,
         256,
         256
        ]
       },
       "headingColor": {
        "id": "headingColor",
        "rgb": [
         34,
         34,
         34
        ]
       },
       "linkColor": {
        "id": "linkColor",
        "rgb": [
         42,
         118,
         221
        ]
       },
       "mainColor": {
        "id": "mainColor",
        "rgb": [
         34,
         34,
         34
        ]
       }
      },
      "rules": {
       "a": {
        "color": "linkColor"
       },
       "h1": {
        "color": "headingColor",
        "font-family": "Source Sans Pro",
        "font-size": 5.25
       },
       "h2": {
        "color": "headingColor",
        "font-family": "Source Sans Pro",
        "font-size": 4
       },
       "h3": {
        "color": "headingColor",
        "font-family": "Source Sans Pro",
        "font-size": 3.5
       },
       "h4": {
        "color": "headingColor",
        "font-family": "Source Sans Pro",
        "font-size": 3
       },
       "h5": {
        "color": "headingColor",
        "font-family": "Source Sans Pro"
       },
       "h6": {
        "color": "headingColor",
        "font-family": "Source Sans Pro"
       },
       "h7": {
        "color": "headingColor",
        "font-family": "Source Sans Pro"
       },
       "li": {
        "color": "mainColor",
        "font-family": "Source Sans Pro",
        "font-size": 6
       },
       "p": {
        "color": "mainColor",
        "font-family": "Source Sans Pro",
        "font-size": 6
       }
      },
      "text-base": {
       "color": "mainColor",
       "font-family": "Source Sans Pro",
       "font-size": 6
      }
     },
     "b2ce2e16-ed0a-4283-a968-375b6258a638": {
      "backgrounds": {
       "backgroundColor": {
        "background-color": "backgroundColor",
        "id": "backgroundColor"
       }
      },
      "id": "b2ce2e16-ed0a-4283-a968-375b6258a638",
      "palette": {
       "backgroundColor": {
        "id": "backgroundColor",
        "rgb": [
         34,
         34,
         34
        ]
       },
       "headingColor": {
        "id": "headingColor",
        "rgb": [
         238,
         238,
         238
        ]
       },
       "linkColor": {
        "id": "linkColor",
        "rgb": [
         170,
         34,
         51
        ]
       },
       "mainColor": {
        "id": "mainColor",
        "rgb": [
         238,
         238,
         238
        ]
       }
      },
      "rules": {
       "a": {
        "color": "linkColor"
       },
       "h1": {
        "color": "headingColor",
        "font-family": "Ubuntu",
        "font-size": 7
       },
       "h2": {
        "color": "headingColor",
        "font-family": "Ubuntu",
        "font-size": 5
       },
       "h3": {
        "color": "headingColor",
        "font-family": "Ubuntu",
        "font-size": 3.75
       },
       "h4": {
        "color": "headingColor",
        "font-family": "Ubuntu",
        "font-size": 3
       },
       "h5": {
        "color": "headingColor",
        "font-family": "Ubuntu"
       },
       "h6": {
        "color": "headingColor",
        "font-family": "Ubuntu"
       },
       "h7": {
        "color": "headingColor",
        "font-family": "Ubuntu"
       },
       "li": {
        "color": "mainColor",
        "font-family": "Ubuntu",
        "font-size": 5
       },
       "p": {
        "color": "mainColor",
        "font-family": "Ubuntu",
        "font-size": 5
       }
      },
      "text-base": {
       "color": "mainColor",
       "font-family": "Ubuntu",
       "font-size": 5
      }
     },
     "fc72b781-2eae-49c2-8f1a-624408d95e0c": {
      "backgrounds": {
       "backgroundColor": {
        "background-color": "backgroundColor",
        "id": "backgroundColor"
       }
      },
      "id": "fc72b781-2eae-49c2-8f1a-624408d95e0c",
      "palette": {
       "backgroundColor": {
        "id": "backgroundColor",
        "rgb": [
         247,
         251,
         252
        ]
       },
       "headingColor": {
        "id": "headingColor",
        "rgb": [
         51,
         51,
         51
        ]
       },
       "linkColor": {
        "id": "linkColor",
        "rgb": [
         59,
         117,
         158
        ]
       },
       "mainColor": {
        "id": "mainColor",
        "rgb": [
         51,
         51,
         51
        ]
       }
      },
      "rules": {
       "a": {
        "color": "linkColor"
       },
       "h1": {
        "color": "headingColor",
        "font-family": "Quicksand",
        "font-size": 7
       },
       "h2": {
        "color": "headingColor",
        "font-family": "Quicksand",
        "font-size": 5
       },
       "h3": {
        "color": "headingColor",
        "font-family": "Quicksand",
        "font-size": 3.75
       },
       "h4": {
        "color": "headingColor",
        "font-family": "Quicksand",
        "font-size": 3
       },
       "h5": {
        "color": "headingColor",
        "font-family": "Quicksand"
       },
       "h6": {
        "color": "headingColor",
        "font-family": "Quicksand"
       },
       "h7": {
        "color": "headingColor",
        "font-family": "Quicksand"
       },
       "li": {
        "color": "mainColor",
        "font-family": "Open Sans",
        "font-size": 5
       },
       "p": {
        "color": "mainColor",
        "font-family": "Open Sans",
        "font-size": 5
       }
      },
      "text-base": {
       "color": "mainColor",
       "font-family": "Open Sans",
       "font-size": 5
      }
     }
    }
   }
  }
 },
 "nbformat": 4,
 "nbformat_minor": 2
}
